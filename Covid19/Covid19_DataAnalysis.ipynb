{
 "cells": [
  {
   "cell_type": "code",
   "execution_count": 3,
   "id": "a99e28eb",
   "metadata": {},
   "outputs": [],
   "source": [
    "import pandas as pd\n",
    "import numpy as np\n",
    "import seaborn as sns\n",
    "import matplotlib.pyplot as plt"
   ]
  },
  {
   "cell_type": "code",
   "execution_count": 5,
   "id": "3c0412f9",
   "metadata": {},
   "outputs": [],
   "source": [
    "data = pd.read_csv(r'D:\\3. Data Science\\Python\\Projects\\data.csv')"
   ]
  },
  {
   "cell_type": "code",
   "execution_count": 7,
   "id": "1e28fb05",
   "metadata": {},
   "outputs": [
    {
     "data": {
      "text/html": [
       "<div>\n",
       "<style scoped>\n",
       "    .dataframe tbody tr th:only-of-type {\n",
       "        vertical-align: middle;\n",
       "    }\n",
       "\n",
       "    .dataframe tbody tr th {\n",
       "        vertical-align: top;\n",
       "    }\n",
       "\n",
       "    .dataframe thead th {\n",
       "        text-align: right;\n",
       "    }\n",
       "</style>\n",
       "<table border=\"1\" class=\"dataframe\">\n",
       "  <thead>\n",
       "    <tr style=\"text-align: right;\">\n",
       "      <th></th>\n",
       "      <th>dateRep</th>\n",
       "      <th>day</th>\n",
       "      <th>month</th>\n",
       "      <th>year</th>\n",
       "      <th>cases</th>\n",
       "      <th>deaths</th>\n",
       "      <th>countriesAndTerritories</th>\n",
       "      <th>geoId</th>\n",
       "      <th>countryterritoryCode</th>\n",
       "      <th>popData2020</th>\n",
       "      <th>continentExp</th>\n",
       "    </tr>\n",
       "  </thead>\n",
       "  <tbody>\n",
       "    <tr>\n",
       "      <th>0</th>\n",
       "      <td>25/08/2021</td>\n",
       "      <td>25</td>\n",
       "      <td>8</td>\n",
       "      <td>2021</td>\n",
       "      <td>1014</td>\n",
       "      <td>6</td>\n",
       "      <td>Austria</td>\n",
       "      <td>AT</td>\n",
       "      <td>AUT</td>\n",
       "      <td>8901064</td>\n",
       "      <td>Europe</td>\n",
       "    </tr>\n",
       "    <tr>\n",
       "      <th>1</th>\n",
       "      <td>24/08/2021</td>\n",
       "      <td>24</td>\n",
       "      <td>8</td>\n",
       "      <td>2021</td>\n",
       "      <td>971</td>\n",
       "      <td>1</td>\n",
       "      <td>Austria</td>\n",
       "      <td>AT</td>\n",
       "      <td>AUT</td>\n",
       "      <td>8901064</td>\n",
       "      <td>Europe</td>\n",
       "    </tr>\n",
       "    <tr>\n",
       "      <th>2</th>\n",
       "      <td>23/08/2021</td>\n",
       "      <td>23</td>\n",
       "      <td>8</td>\n",
       "      <td>2021</td>\n",
       "      <td>1174</td>\n",
       "      <td>1</td>\n",
       "      <td>Austria</td>\n",
       "      <td>AT</td>\n",
       "      <td>AUT</td>\n",
       "      <td>8901064</td>\n",
       "      <td>Europe</td>\n",
       "    </tr>\n",
       "    <tr>\n",
       "      <th>3</th>\n",
       "      <td>22/08/2021</td>\n",
       "      <td>22</td>\n",
       "      <td>8</td>\n",
       "      <td>2021</td>\n",
       "      <td>1309</td>\n",
       "      <td>1</td>\n",
       "      <td>Austria</td>\n",
       "      <td>AT</td>\n",
       "      <td>AUT</td>\n",
       "      <td>8901064</td>\n",
       "      <td>Europe</td>\n",
       "    </tr>\n",
       "    <tr>\n",
       "      <th>4</th>\n",
       "      <td>21/08/2021</td>\n",
       "      <td>21</td>\n",
       "      <td>8</td>\n",
       "      <td>2021</td>\n",
       "      <td>1321</td>\n",
       "      <td>1</td>\n",
       "      <td>Austria</td>\n",
       "      <td>AT</td>\n",
       "      <td>AUT</td>\n",
       "      <td>8901064</td>\n",
       "      <td>Europe</td>\n",
       "    </tr>\n",
       "  </tbody>\n",
       "</table>\n",
       "</div>"
      ],
      "text/plain": [
       "      dateRep  day  month  year  cases  deaths countriesAndTerritories geoId  \\\n",
       "0  25/08/2021   25      8  2021   1014       6                 Austria    AT   \n",
       "1  24/08/2021   24      8  2021    971       1                 Austria    AT   \n",
       "2  23/08/2021   23      8  2021   1174       1                 Austria    AT   \n",
       "3  22/08/2021   22      8  2021   1309       1                 Austria    AT   \n",
       "4  21/08/2021   21      8  2021   1321       1                 Austria    AT   \n",
       "\n",
       "  countryterritoryCode  popData2020 continentExp  \n",
       "0                  AUT      8901064       Europe  \n",
       "1                  AUT      8901064       Europe  \n",
       "2                  AUT      8901064       Europe  \n",
       "3                  AUT      8901064       Europe  \n",
       "4                  AUT      8901064       Europe  "
      ]
     },
     "execution_count": 7,
     "metadata": {},
     "output_type": "execute_result"
    }
   ],
   "source": [
    "data.head()"
   ]
  },
  {
   "cell_type": "code",
   "execution_count": 8,
   "id": "8ed174b0",
   "metadata": {},
   "outputs": [
    {
     "data": {
      "text/plain": [
       "Index(['dateRep', 'day', 'month', 'year', 'cases', 'deaths',\n",
       "       'countriesAndTerritories', 'geoId', 'countryterritoryCode',\n",
       "       'popData2020', 'continentExp'],\n",
       "      dtype='object')"
      ]
     },
     "execution_count": 8,
     "metadata": {},
     "output_type": "execute_result"
    }
   ],
   "source": [
    "data.columns"
   ]
  },
  {
   "cell_type": "code",
   "execution_count": 11,
   "id": "466d875e",
   "metadata": {},
   "outputs": [
    {
     "data": {
      "text/html": [
       "<div>\n",
       "<style scoped>\n",
       "    .dataframe tbody tr th:only-of-type {\n",
       "        vertical-align: middle;\n",
       "    }\n",
       "\n",
       "    .dataframe tbody tr th {\n",
       "        vertical-align: top;\n",
       "    }\n",
       "\n",
       "    .dataframe thead th {\n",
       "        text-align: right;\n",
       "    }\n",
       "</style>\n",
       "<table border=\"1\" class=\"dataframe\">\n",
       "  <thead>\n",
       "    <tr style=\"text-align: right;\">\n",
       "      <th></th>\n",
       "      <th>day</th>\n",
       "      <th>month</th>\n",
       "      <th>year</th>\n",
       "      <th>cases</th>\n",
       "      <th>deaths</th>\n",
       "      <th>popData2020</th>\n",
       "    </tr>\n",
       "  </thead>\n",
       "  <tbody>\n",
       "    <tr>\n",
       "      <th>count</th>\n",
       "      <td>5340.000000</td>\n",
       "      <td>5340.000000</td>\n",
       "      <td>5340.0</td>\n",
       "      <td>5.340000e+03</td>\n",
       "      <td>5340.000000</td>\n",
       "      <td>5.340000e+03</td>\n",
       "    </tr>\n",
       "    <tr>\n",
       "      <th>mean</th>\n",
       "      <td>15.410674</td>\n",
       "      <td>5.420225</td>\n",
       "      <td>2021.0</td>\n",
       "      <td>6.818272e+03</td>\n",
       "      <td>140.817603</td>\n",
       "      <td>1.510301e+07</td>\n",
       "    </tr>\n",
       "    <tr>\n",
       "      <th>std</th>\n",
       "      <td>8.682215</td>\n",
       "      <td>1.678786</td>\n",
       "      <td>0.0</td>\n",
       "      <td>9.337426e+04</td>\n",
       "      <td>2416.963353</td>\n",
       "      <td>2.121646e+07</td>\n",
       "    </tr>\n",
       "    <tr>\n",
       "      <th>min</th>\n",
       "      <td>1.000000</td>\n",
       "      <td>2.000000</td>\n",
       "      <td>2021.0</td>\n",
       "      <td>-2.001000e+03</td>\n",
       "      <td>-3.000000</td>\n",
       "      <td>3.874700e+04</td>\n",
       "    </tr>\n",
       "    <tr>\n",
       "      <th>25%</th>\n",
       "      <td>8.000000</td>\n",
       "      <td>4.000000</td>\n",
       "      <td>2021.0</td>\n",
       "      <td>1.180000e+02</td>\n",
       "      <td>0.000000</td>\n",
       "      <td>2.095861e+06</td>\n",
       "    </tr>\n",
       "    <tr>\n",
       "      <th>50%</th>\n",
       "      <td>15.000000</td>\n",
       "      <td>5.000000</td>\n",
       "      <td>2021.0</td>\n",
       "      <td>5.330000e+02</td>\n",
       "      <td>4.000000</td>\n",
       "      <td>6.387122e+06</td>\n",
       "    </tr>\n",
       "    <tr>\n",
       "      <th>75%</th>\n",
       "      <td>23.000000</td>\n",
       "      <td>7.000000</td>\n",
       "      <td>2021.0</td>\n",
       "      <td>2.239250e+03</td>\n",
       "      <td>28.000000</td>\n",
       "      <td>1.152244e+07</td>\n",
       "    </tr>\n",
       "    <tr>\n",
       "      <th>max</th>\n",
       "      <td>31.000000</td>\n",
       "      <td>8.000000</td>\n",
       "      <td>2021.0</td>\n",
       "      <td>3.645305e+06</td>\n",
       "      <td>97699.000000</td>\n",
       "      <td>8.316671e+07</td>\n",
       "    </tr>\n",
       "  </tbody>\n",
       "</table>\n",
       "</div>"
      ],
      "text/plain": [
       "               day        month    year         cases        deaths  \\\n",
       "count  5340.000000  5340.000000  5340.0  5.340000e+03   5340.000000   \n",
       "mean     15.410674     5.420225  2021.0  6.818272e+03    140.817603   \n",
       "std       8.682215     1.678786     0.0  9.337426e+04   2416.963353   \n",
       "min       1.000000     2.000000  2021.0 -2.001000e+03     -3.000000   \n",
       "25%       8.000000     4.000000  2021.0  1.180000e+02      0.000000   \n",
       "50%      15.000000     5.000000  2021.0  5.330000e+02      4.000000   \n",
       "75%      23.000000     7.000000  2021.0  2.239250e+03     28.000000   \n",
       "max      31.000000     8.000000  2021.0  3.645305e+06  97699.000000   \n",
       "\n",
       "        popData2020  \n",
       "count  5.340000e+03  \n",
       "mean   1.510301e+07  \n",
       "std    2.121646e+07  \n",
       "min    3.874700e+04  \n",
       "25%    2.095861e+06  \n",
       "50%    6.387122e+06  \n",
       "75%    1.152244e+07  \n",
       "max    8.316671e+07  "
      ]
     },
     "execution_count": 11,
     "metadata": {},
     "output_type": "execute_result"
    }
   ],
   "source": [
    "data.describe()"
   ]
  },
  {
   "cell_type": "markdown",
   "id": "118465ba",
   "metadata": {},
   "source": [
    "# Relating the variables with scatterplots"
   ]
  },
  {
   "cell_type": "code",
   "execution_count": 15,
   "id": "a297501f",
   "metadata": {},
   "outputs": [
    {
     "data": {
      "text/plain": [
       "<seaborn.axisgrid.FacetGrid at 0x21f6ff93f70>"
      ]
     },
     "execution_count": 15,
     "metadata": {},
     "output_type": "execute_result"
    },
    {
     "data": {
      "image/png": "[encoded data removed]",
      "text/plain": [
       "<Figure size 360x360 with 1 Axes>"
      ]
     },
     "metadata": {
      "needs_background": "light"
     },
     "output_type": "display_data"
    }
   ],
   "source": [
    "sns.relplot(x=\"cases\",y=\"deaths\",data=data)"
   ]
  },
  {
   "cell_type": "code",
   "execution_count": 18,
   "id": "5b4a43d6",
   "metadata": {},
   "outputs": [
    {
     "data": {
      "text/plain": [
       "<seaborn.axisgrid.FacetGrid at 0x21f6b019190>"
      ]
     },
     "execution_count": 18,
     "metadata": {},
     "output_type": "execute_result"
    },
    {
     "data": {
      "image/png": "[encoded data removed]",
      "text/plain": [
       "<Figure size 360x360 with 1 Axes>"
      ]
     },
     "metadata": {
      "needs_background": "light"
     },
     "output_type": "display_data"
    }
   ],
   "source": [
    "sns.relplot(x=\"cases\",y=\"deaths\",kind=\"line\",data=data)"
   ]
  },
  {
   "cell_type": "code",
   "execution_count": null,
   "id": "39269f41",
   "metadata": {},
   "outputs": [],
   "source": []
  }
 ],
 "metadata": {
  "kernelspec": {
   "display_name": "Python 3",
   "language": "python",
   "name": "python3"
  },
  "language_info": {
   "codemirror_mode": {
    "name": "ipython",
    "version": 3
   },
   "file_extension": ".py",
   "mimetype": "text/x-python",
   "name": "python",
   "nbconvert_exporter": "python",
   "pygments_lexer": "ipython3",
   "version": "3.8.8"
  }
 },
 "nbformat": 4,
 "nbformat_minor": 5
}
